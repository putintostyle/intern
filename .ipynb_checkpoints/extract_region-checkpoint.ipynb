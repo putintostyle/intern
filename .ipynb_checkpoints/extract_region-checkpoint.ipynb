{
 "cells": [
  {
   "cell_type": "code",
   "execution_count": 1,
   "metadata": {},
   "outputs": [
    {
     "name": "stderr",
     "output_type": "stream",
     "text": [
      "D:\\Anaconda\\lib\\site-packages\\ipykernel_launcher.py:9: VisibleDeprecationWarning: Creating an ndarray from ragged nested sequences (which is a list-or-tuple of lists-or-tuples-or ndarrays with different lengths or shapes) is deprecated. If you meant to do this, you must specify 'dtype=object' when creating the ndarray\n",
      "  if __name__ == '__main__':\n"
     ]
    }
   ],
   "source": [
    "import pandas as pd\n",
    "import numpy as np\n",
    "import os\n",
    "import matplotlib.pyplot as plt\n",
    "PATH = \"\"\n",
    "\n",
    "df = pd.read_csv(os.path.join(PATH, \"QAResultData.csv\"))\n",
    "data = np.array(df.values)\n",
    "df_keys = np.array([[eval(i)[0], eval(i)[1]] for i in data[:,0]])\n",
    "\n",
    " \n",
    "logi_pool = [(file_name[0][:2] == 'M'+str(1))&(file_name[0][2] == 'M')&('SRM' not in file_name[0]) for file_name in df_keys] \n",
    "\n",
    "parameter = df_keys[logi_pool][:,1]\n",
    "Ct_err = data[logi_pool][:,2]\n",
    "Cc_err = data[logi_pool][:,3]\n",
    "CD = data[logi_pool][:,4]   \n",
    "SP = data[logi_pool][:,5]\n",
    "\n",
    "train_X = np.array([[CD[i], SP[i]] for i in range(0, len(CD), 2)])\n",
    "#(Ct_err1*wext2 - Ct_err2*wext1)/(Ct_err1 - Ct_err2)\n",
    "train_Y = np.array([(Ct_err[i]*parameter[i+1][0]-Ct_err[i+1]*parameter[i][0])/(Ct_err[i]-Ct_err[i+1]) for i in range(0, len(Ct_err), 2)])"
   ]
  },
  {
   "cell_type": "code",
   "execution_count": 84,
   "metadata": {},
   "outputs": [],
   "source": [
    "from sklearn.model_selection import cross_val_score\n",
    "from sklearn.tree import DecisionTreeRegressor\n",
    "from sklearn import tree\n",
    "\n",
    "regressor = DecisionTreeRegressor(random_state=0, min_samples_leaf = 60)"
   ]
  },
  {
   "cell_type": "code",
   "execution_count": 85,
   "metadata": {},
   "outputs": [
    {
     "data": {
      "text/plain": [
       "DecisionTreeRegressor(min_samples_leaf=60, random_state=0)"
      ]
     },
     "execution_count": 85,
     "metadata": {},
     "output_type": "execute_result"
    }
   ],
   "source": [
    "regressor.fit(train_X, train_Y)"
   ]
  },
  {
   "cell_type": "code",
   "execution_count": 86,
   "metadata": {},
   "outputs": [
    {
     "data": {
      "text/plain": [
       "array([ 0,  0,  1, -2, -2, -2,  0, -2,  1,  1, -2, -2, -2], dtype=int64)"
      ]
     },
     "execution_count": 86,
     "metadata": {},
     "output_type": "execute_result"
    }
   ],
   "source": [
    "regressor.tree_.feature"
   ]
  },
  {
   "cell_type": "code",
   "execution_count": 87,
   "metadata": {},
   "outputs": [
    {
     "data": {
      "text/plain": [
       "array([425. , 359. , 334.5,  -2. ,  -2. ,  -2. , 489. ,  -2. , 438.5,\n",
       "       314.5,  -2. ,  -2. ,  -2. ])"
      ]
     },
     "execution_count": 87,
     "metadata": {},
     "output_type": "execute_result"
    }
   ],
   "source": [
    "regressor.tree_.threshold"
   ]
  },
  {
   "cell_type": "code",
   "execution_count": 88,
   "metadata": {
    "tags": []
   },
   "outputs": [
    {
     "data": {
      "text/plain": [
       "array([ 1,  2,  3, -1, -1, -1,  7, -1,  9, 10, -1, -1, -1], dtype=int64)"
      ]
     },
     "execution_count": 88,
     "metadata": {},
     "output_type": "execute_result"
    }
   ],
   "source": [
    "regressor.tree_.children_left"
   ]
  },
  {
   "cell_type": "code",
   "execution_count": 89,
   "metadata": {
    "tags": []
   },
   "outputs": [
    {
     "data": {
      "text/plain": [
       "array([ 6,  5,  4, -1, -1, -1,  8, -1, 12, 11, -1, -1, -1], dtype=int64)"
      ]
     },
     "execution_count": 89,
     "metadata": {},
     "output_type": "execute_result"
    }
   ],
   "source": [
    "regressor.tree_.children_right"
   ]
  },
  {
   "cell_type": "code",
   "execution_count": 90,
   "metadata": {},
   "outputs": [
    {
     "data": {
      "text/plain": [
       "13"
      ]
     },
     "execution_count": 90,
     "metadata": {},
     "output_type": "execute_result"
    }
   ],
   "source": [
    "len(regressor.tree_.children_right)"
   ]
  },
  {
   "cell_type": "code",
   "execution_count": 91,
   "metadata": {},
   "outputs": [],
   "source": [
    "def split(array, dim, thred):\n",
    "    if dim == 0:\n",
    "        return [[np.min(array[0]), thred], array[1]],  [[thred, np.max(array[0])], array[1]]\n",
    "    elif dim == 1:\n",
    "        return [array[0], [np.min(array[1]), thred]],  [array[0], [thred, np.max(array[1])]]"
   ]
  },
  {
   "cell_type": "code",
   "execution_count": 92,
   "metadata": {},
   "outputs": [
    {
     "name": "stdout",
     "output_type": "stream",
     "text": [
      "0 [[0, 1, 0, False, False]]\n",
      "1 [[0, 1, 0, False, False], [0, 1, 1, False, False]]\n",
      "2 [[0, 1, 0, False, False], [0, 1, 1, False, False], [0, 1, 2, False, False]]\n",
      "3 [[0, 1, 0, False, False], [0, 1, 1, False, False], [0, 1, 2, False, False]]\n",
      "4 [[0, 1, 0, False, False], [0, 1, 1, False, False], [0, 1, 2, False, True]]\n",
      "5 [[0, 1, 0, False, False], [0, 1, 1, False, True]]\n",
      "6 [[0, 1, 0, False, True], [1, 0, 1, False, False]]\n",
      "7 [[0, 1, 0, False, True], [1, 0, 1, False, False]]\n",
      "8 [[0, 1, 0, False, True], [1, 0, 1, False, True], [1, 0, 2, False, False]]\n",
      "9 [[0, 1, 0, False, True], [1, 0, 1, False, True], [1, 0, 2, False, False], [0, 1, 1, False, False]]\n",
      "10 [[0, 1, 0, False, True], [1, 0, 1, False, True], [1, 0, 2, False, False], [0, 1, 1, False, False]]\n",
      "11 [[0, 1, 0, False, True], [1, 0, 1, False, True], [1, 0, 2, False, False], [0, 1, 1, False, True]]\n",
      "12 [[0, 1, 0, False, True], [1, 0, 1, False, True], [1, 0, 2, False, True]]\n"
     ]
    }
   ],
   "source": [
    "interval = [[0,1000], [0,1000]]\n",
    "left_children = [interval]\n",
    "right_children = [interval]\n",
    "right_remove_idx = False\n",
    "left_remove_idx = False\n",
    "parent = []\n",
    "region = []\n",
    "LEFT_FLAG = False\n",
    "\n",
    "for index_of_node in range(0,len(regressor.tree_.threshold)):\n",
    "    if regressor.tree_.threshold[index_of_node] != -2:\n",
    "        \n",
    "#         print(right_children)\n",
    "        \n",
    "        if LEFT_FLAG == False:\n",
    "            \n",
    "            FROM_LEFT_FLAG = False\n",
    "            \n",
    "            right, left = split(right_children[-1], regressor.tree_.feature[index_of_node], regressor.tree_.threshold[index_of_node])\n",
    "            \n",
    "            parent.append([0,1,len(right_children)-1, False, False])\n",
    "            right_children.append(right)\n",
    "            left_children.append(left)\n",
    "#             print(left_children)\n",
    "            FROM_RIGHT_FLAG = True\n",
    "        else:\n",
    "            FROM_RIGHT_FLAG = False\n",
    "            \n",
    "            right, left = split(left_children[-1], regressor.tree_.feature[index_of_node], regressor.tree_.threshold[index_of_node])\n",
    "            \n",
    "            \n",
    "            \n",
    "            parent.append([1, 0,len(left_children)-1, False, False])\n",
    "            \n",
    "            right_children.append(right)\n",
    "            left_children.append(left)\n",
    "            LEFT_FLAG = False\n",
    "            FROM_LEFT_FLAG = True\n",
    "        print(index_of_node, parent)\n",
    "    else:\n",
    "        print(index_of_node, parent)\n",
    "        \n",
    "        if regressor.tree_.threshold[index_of_node-1] != -2:\n",
    "            \n",
    "            region.append(right_children[-1])\n",
    "            \n",
    "            parent_idx = parent[-1][0:3]\n",
    "#             parent_remove = parent[-1][3:]\n",
    "            \n",
    "            right_children.pop()\n",
    "            LEFT_FLAG = True\n",
    "#             parent_remove[1] = True\n",
    "            parent[-1][4] = True\n",
    "        else:\n",
    "            \n",
    "            region.append(left_children[-1])\n",
    "            \n",
    "            parent_idx = parent[-1][0:3]\n",
    "#             parent_remove = parent[-1][3:]\n",
    "\n",
    "            left_children.pop()\n",
    "            parent[-1][3] = True\n",
    "     \n",
    "    \n",
    "#         print(left_remove_idx, right_remove_idx)\n",
    "        while (parent[-1][3:][0] == True) & (parent[-1][3:][1] == True):\n",
    "#             if len(parent == len(regressor.tree_.threshold)-1:\n",
    "#                 break:\n",
    "            \n",
    "            if parent_idx[0] == 1: #left\n",
    "                left_children.pop(parent_idx[2])\n",
    "                parent.pop()\n",
    "                if (index_of_node == len(regressor.tree_.feature)-1) & (len(parent) == 0):\n",
    "                    break\n",
    "                else:\n",
    "                    parent_idx = parent[-1][0:3]\n",
    "#                 parent_remove = parent[-1][3:]\n",
    "                \n",
    "                    parent[-1][3] = True\n",
    "            else:\n",
    "                right_children.pop(parent_idx[2])\n",
    "                parent.pop()\n",
    "                if (index_of_node == len(regressor.tree_.feature)-1) & (len(parent) == 0):\n",
    "                    break\n",
    "                else:\n",
    "                    parent_idx = parent[-1][0:3]\n",
    "    #                 parent_remove = parent[-1][3:]\n",
    "\n",
    "                    parent[-1][4] = True\n",
    "\n",
    "        else:\n",
    "            continue\n"
   ]
  },
  {
   "cell_type": "code",
   "execution_count": 93,
   "metadata": {},
   "outputs": [
    {
     "data": {
      "text/plain": [
       "[]"
      ]
     },
     "execution_count": 93,
     "metadata": {},
     "output_type": "execute_result"
    }
   ],
   "source": [
    "right_children"
   ]
  },
  {
   "cell_type": "code",
   "execution_count": 94,
   "metadata": {},
   "outputs": [
    {
     "data": {
      "text/plain": [
       "[[[0, 1000], [0, 1000]]]"
      ]
     },
     "execution_count": 94,
     "metadata": {},
     "output_type": "execute_result"
    }
   ],
   "source": [
    "left_children"
   ]
  },
  {
   "cell_type": "code",
   "execution_count": 96,
   "metadata": {},
   "outputs": [
    {
     "name": "stdout",
     "output_type": "stream",
     "text": [
      "|--- feature_0 <= 425.00\n",
      "|   |--- feature_0 <= 359.00\n",
      "|   |   |--- feature_1 <= 334.50\n",
      "|   |   |   |--- value: [0.94]\n",
      "|   |   |--- feature_1 >  334.50\n",
      "|   |   |   |--- value: [-3.27]\n",
      "|   |--- feature_0 >  359.00\n",
      "|   |   |--- value: [-4.90]\n",
      "|--- feature_0 >  425.00\n",
      "|   |--- feature_0 <= 489.00\n",
      "|   |   |--- value: [-8.91]\n",
      "|   |--- feature_0 >  489.00\n",
      "|   |   |--- feature_1 <= 438.50\n",
      "|   |   |   |--- feature_1 <= 314.50\n",
      "|   |   |   |   |--- value: [-10.12]\n",
      "|   |   |   |--- feature_1 >  314.50\n",
      "|   |   |   |   |--- value: [-12.35]\n",
      "|   |   |--- feature_1 >  438.50\n",
      "|   |   |   |--- value: [-14.47]\n",
      "\n"
     ]
    }
   ],
   "source": [
    "print(tree.export_text(regressor))"
   ]
  },
  {
   "cell_type": "code",
   "execution_count": 95,
   "metadata": {},
   "outputs": [
    {
     "data": {
      "text/plain": [
       "[[[0.0, 359.0], [0, 334.5]],\n",
       " [[0.0, 359.0], [334.5, 1000]],\n",
       " [[359.0, 425.0], [0, 1000]],\n",
       " [[425.0, 489.0], [0, 1000]],\n",
       " [[489.0, 1000.0], [0.0, 314.5]],\n",
       " [[489.0, 1000.0], [314.5, 438.5]],\n",
       " [[489.0, 1000.0], [438.5, 1000]]]"
      ]
     },
     "execution_count": 95,
     "metadata": {},
     "output_type": "execute_result"
    }
   ],
   "source": [
    "region"
   ]
  }
 ],
 "metadata": {
  "kernelspec": {
   "display_name": "Python 3",
   "language": "python",
   "name": "python3"
  },
  "language_info": {
   "codemirror_mode": {
    "name": "ipython",
    "version": 3
   },
   "file_extension": ".py",
   "mimetype": "text/x-python",
   "name": "python",
   "nbconvert_exporter": "python",
   "pygments_lexer": "ipython3",
   "version": "3.7.6"
  }
 },
 "nbformat": 4,
 "nbformat_minor": 5
}
