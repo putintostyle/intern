{
 "cells": [
  {
   "cell_type": "code",
   "execution_count": 1,
   "source": [
    "import pandas as pd\r\n",
    "import numpy as np\r\n",
    "import os\r\n",
    "import matplotlib.pyplot as plt\r\n",
    "PATH = \"__tuning\"\r\n",
    "\r\n",
    "df = pd.read_csv(os.path.join(PATH, \"QAResultData.csv\"))\r\n",
    "data = np.array(df.values)\r\n",
    "df_keys = np.array([[eval(i)[0], eval(i)[1]] for i in data[:,0]])\r\n",
    "\r\n",
    " \r\n",
    "logi_pool = [(file_name[0][:2] == 'M'+str(1))&(file_name[0][2] == 'M')&('SRM' not in file_name[0]) for file_name in df_keys] \r\n",
    "\r\n",
    "parameter = df_keys[logi_pool][:,1]\r\n",
    "Ct_err = data[logi_pool][:,2]\r\n",
    "Cc_err = data[logi_pool][:,3]\r\n",
    "CD = data[logi_pool][:,4]   \r\n",
    "SP = data[logi_pool][:,5]\r\n",
    "\r\n",
    "train_X = np.array([[CD[i], SP[i]] for i in range(0, len(CD), 2)])\r\n",
    "#(Ct_err1*wext2 - Ct_err2*wext1)/(Ct_err1 - Ct_err2)\r\n",
    "train_Y = np.array([(Ct_err[i]*parameter[i+1][0]-Ct_err[i+1]*parameter[i][0])/(Ct_err[i]-Ct_err[i+1]) for i in range(0, len(Ct_err), 2)])"
   ],
   "outputs": [
    {
     "output_type": "stream",
     "name": "stderr",
     "text": [
      "D:\\Anaconda\\lib\\site-packages\\ipykernel_launcher.py:9: VisibleDeprecationWarning: Creating an ndarray from ragged nested sequences (which is a list-or-tuple of lists-or-tuples-or ndarrays with different lengths or shapes) is deprecated. If you meant to do this, you must specify 'dtype=object' when creating the ndarray\n",
      "  if __name__ == '__main__':\n"
     ]
    }
   ],
   "metadata": {}
  },
  {
   "cell_type": "code",
   "execution_count": 44,
   "source": [
    "from sklearn.model_selection import cross_val_score\r\n",
    "from sklearn.tree import DecisionTreeRegressor\r\n",
    "from sklearn import tree\r\n",
    "\r\n",
    "regressor = DecisionTreeRegressor(random_state=0, min_samples_leaf = 10)"
   ],
   "outputs": [],
   "metadata": {}
  },
  {
   "cell_type": "code",
   "execution_count": 45,
   "source": [
    "regressor.fit(train_X, train_Y)"
   ],
   "outputs": [
    {
     "output_type": "execute_result",
     "data": {
      "text/plain": [
       "DecisionTreeRegressor(min_samples_leaf=10, random_state=0)"
      ]
     },
     "metadata": {},
     "execution_count": 45
    }
   ],
   "metadata": {}
  },
  {
   "cell_type": "code",
   "execution_count": 46,
   "source": [
    "regressor.tree_.feature"
   ],
   "outputs": [
    {
     "output_type": "execute_result",
     "data": {
      "text/plain": [
       "array([ 0,  0,  1,  1, -2,  0,  1,  0, -2, -2, -2,  1, -2,  1, -2, -2,  0,\n",
       "        1,  1, -2, -2, -2,  0,  0, -2,  0, -2, -2, -2,  1,  0,  0, -2,  1,\n",
       "       -2, -2,  1,  0, -2, -2, -2, -2,  0,  1,  0, -2,  1, -2, -2,  0, -2,\n",
       "        1,  1,  0, -2,  1, -2, -2, -2,  1, -2, -2,  1,  1, -2,  1, -2, -2,\n",
       "        0,  1,  0, -2,  1,  1, -2, -2, -2,  1, -2,  1, -2, -2,  1,  0,  0,\n",
       "       -2, -2, -2,  1,  1, -2, -2,  1, -2, -2], dtype=int64)"
      ]
     },
     "metadata": {},
     "execution_count": 46
    }
   ],
   "metadata": {}
  },
  {
   "cell_type": "code",
   "execution_count": 47,
   "source": [
    "regressor.tree_.threshold"
   ],
   "outputs": [
    {
     "output_type": "execute_result",
     "data": {
      "text/plain": [
       "array([425. , 359. , 334.5, 125. ,  -2. , 305. , 224. , 260. ,  -2. ,\n",
       "        -2. ,  -2. , 175.5,  -2. , 282.5,  -2. ,  -2. , 257. , 479. ,\n",
       "       416. ,  -2. ,  -2. ,  -2. , 335. , 281. ,  -2. , 327. ,  -2. ,\n",
       "        -2. ,  -2. , 472.5, 397. , 367. ,  -2. , 395. ,  -2. ,  -2. ,\n",
       "       313. , 410. ,  -2. ,  -2. ,  -2. ,  -2. , 489. , 310.5, 453. ,\n",
       "        -2. , 207.5,  -2. ,  -2. , 435. ,  -2. , 483. , 442.5, 452. ,\n",
       "        -2. , 379. ,  -2. ,  -2. ,  -2. , 519. ,  -2. ,  -2. , 302. ,\n",
       "       138. ,  -2. , 263.5,  -2. ,  -2. , 545. , 439.5, 499. ,  -2. ,\n",
       "       339. , 323.5,  -2. ,  -2. ,  -2. , 450.5,  -2. , 522. ,  -2. ,\n",
       "        -2. , 433.5, 569. , 559. ,  -2. ,  -2. ,  -2. , 471.5, 453.5,\n",
       "        -2. ,  -2. , 559. ,  -2. ,  -2. ])"
      ]
     },
     "metadata": {},
     "execution_count": 47
    }
   ],
   "metadata": {}
  },
  {
   "cell_type": "code",
   "execution_count": 48,
   "source": [
    "regressor.tree_.children_left"
   ],
   "outputs": [
    {
     "output_type": "execute_result",
     "data": {
      "text/plain": [
       "array([ 1,  2,  3,  4, -1,  6,  7,  8, -1, -1, -1, 12, -1, 14, -1, -1, 17,\n",
       "       18, 19, -1, -1, -1, 23, 24, -1, 26, -1, -1, -1, 30, 31, 32, -1, 34,\n",
       "       -1, -1, 37, 38, -1, -1, -1, -1, 43, 44, 45, -1, 47, -1, -1, 50, -1,\n",
       "       52, 53, 54, -1, 56, -1, -1, -1, 60, -1, -1, 63, 64, -1, 66, -1, -1,\n",
       "       69, 70, 71, -1, 73, 74, -1, -1, -1, 78, -1, 80, -1, -1, 83, 84, 85,\n",
       "       -1, -1, -1, 89, 90, -1, -1, 93, -1, -1], dtype=int64)"
      ]
     },
     "metadata": {},
     "execution_count": 48
    }
   ],
   "metadata": {
    "tags": []
   }
  },
  {
   "cell_type": "code",
   "execution_count": 49,
   "source": [
    "regressor.tree_.children_right"
   ],
   "outputs": [
    {
     "output_type": "execute_result",
     "data": {
      "text/plain": [
       "array([42, 29, 16,  5, -1, 11, 10,  9, -1, -1, -1, 13, -1, 15, -1, -1, 22,\n",
       "       21, 20, -1, -1, -1, 28, 25, -1, 27, -1, -1, -1, 41, 36, 33, -1, 35,\n",
       "       -1, -1, 40, 39, -1, -1, -1, -1, 62, 49, 46, -1, 48, -1, -1, 51, -1,\n",
       "       59, 58, 55, -1, 57, -1, -1, -1, 61, -1, -1, 68, 65, -1, 67, -1, -1,\n",
       "       82, 77, 72, -1, 76, 75, -1, -1, -1, 79, -1, 81, -1, -1, 88, 87, 86,\n",
       "       -1, -1, -1, 92, 91, -1, -1, 94, -1, -1], dtype=int64)"
      ]
     },
     "metadata": {},
     "execution_count": 49
    }
   ],
   "metadata": {
    "tags": []
   }
  },
  {
   "cell_type": "code",
   "execution_count": 50,
   "source": [
    "len(regressor.tree_.children_right)"
   ],
   "outputs": [
    {
     "output_type": "execute_result",
     "data": {
      "text/plain": [
       "95"
      ]
     },
     "metadata": {},
     "execution_count": 50
    }
   ],
   "metadata": {}
  },
  {
   "cell_type": "code",
   "execution_count": 51,
   "source": [
    "regressor.tree_.value[0][0]"
   ],
   "outputs": [
    {
     "output_type": "execute_result",
     "data": {
      "text/plain": [
       "array([-7.25082886])"
      ]
     },
     "metadata": {},
     "execution_count": 51
    }
   ],
   "metadata": {}
  },
  {
   "cell_type": "code",
   "execution_count": 52,
   "source": [
    "def split(array, dim, thred):\r\n",
    "    if dim == 0:\r\n",
    "        return [[np.min(array[0]), thred], array[1]],  [[thred, np.max(array[0])], array[1]]\r\n",
    "    elif dim == 1:\r\n",
    "        return [array[0], [np.min(array[1]), thred]],  [array[0], [thred, np.max(array[1])]]"
   ],
   "outputs": [],
   "metadata": {}
  },
  {
   "cell_type": "code",
   "execution_count": 53,
   "source": [
    "interval = [[0,1000], [0,1000]]\r\n",
    "left_children = [interval]\r\n",
    "right_children = [interval]\r\n",
    "right_remove_idx = False\r\n",
    "left_remove_idx = False\r\n",
    "parent = []\r\n",
    "region = []\r\n",
    "LEFT_FLAG = False\r\n",
    "\r\n",
    "for index_of_node in range(0,len(regressor.tree_.threshold)):\r\n",
    "    if regressor.tree_.threshold[index_of_node] != -2:\r\n",
    "        \r\n",
    "#         print(right_children)\r\n",
    "        \r\n",
    "        if LEFT_FLAG == False:\r\n",
    "            \r\n",
    "            FROM_LEFT_FLAG = False\r\n",
    "            \r\n",
    "            right, left = split(right_children[-1], regressor.tree_.feature[index_of_node], regressor.tree_.threshold[index_of_node])\r\n",
    "            \r\n",
    "            parent.append([0,1,len(right_children)-1, False, False])\r\n",
    "            right_children.append(right)\r\n",
    "            left_children.append(left)\r\n",
    "#             print(left_children)\r\n",
    "            FROM_RIGHT_FLAG = True\r\n",
    "        else:\r\n",
    "            FROM_RIGHT_FLAG = False\r\n",
    "            \r\n",
    "            right, left = split(left_children[-1], regressor.tree_.feature[index_of_node], regressor.tree_.threshold[index_of_node])\r\n",
    "            \r\n",
    "            \r\n",
    "            \r\n",
    "            parent.append([1, 0,len(left_children)-1, False, False])\r\n",
    "            \r\n",
    "            right_children.append(right)\r\n",
    "            left_children.append(left)\r\n",
    "            LEFT_FLAG = False\r\n",
    "            FROM_LEFT_FLAG = True\r\n",
    "        \r\n",
    "    else:\r\n",
    "        \r\n",
    "        \r\n",
    "        if regressor.tree_.threshold[index_of_node-1] != -2:\r\n",
    "            sub_region = right_children[-1]\r\n",
    "            region.append([sub_region[0][0], sub_region[0][1], sub_region[1][0], sub_region[1][1], regressor.tree_.value[index_of_node][0][0]])\r\n",
    "            \r\n",
    "            parent_idx = parent[-1][0:3]\r\n",
    "#             parent_remove = parent[-1][3:]\r\n",
    "            \r\n",
    "            right_children.pop()\r\n",
    "            LEFT_FLAG = True\r\n",
    "#             parent_remove[1] = True\r\n",
    "            parent[-1][4] = True\r\n",
    "        else:\r\n",
    "            sub_region = left_children[-1]\r\n",
    "            region.append([sub_region[0][0], sub_region[0][1], sub_region[1][0], sub_region[1][1], regressor.tree_.value[index_of_node][0][0]])\r\n",
    "            \r\n",
    "            parent_idx = parent[-1][0:3]\r\n",
    "#             parent_remove = parent[-1][3:]\r\n",
    "\r\n",
    "            left_children.pop()\r\n",
    "            parent[-1][3] = True\r\n",
    "     \r\n",
    "    \r\n",
    "#         print(left_remove_idx, right_remove_idx)\r\n",
    "        while (parent[-1][3:][0] == True) & (parent[-1][3:][1] == True):\r\n",
    "#             if len(parent == len(regressor.tree_.threshold)-1:\r\n",
    "#                 break:\r\n",
    "            \r\n",
    "            if parent_idx[0] == 1: #left\r\n",
    "                left_children.pop(parent_idx[2])\r\n",
    "                parent.pop()\r\n",
    "                if (index_of_node == len(regressor.tree_.feature)-1) & (len(parent) == 0):\r\n",
    "                    break\r\n",
    "                else:\r\n",
    "                    parent_idx = parent[-1][0:3]\r\n",
    "#                 parent_remove = parent[-1][3:]\r\n",
    "                \r\n",
    "                    parent[-1][3] = True\r\n",
    "            else:\r\n",
    "                right_children.pop(parent_idx[2])\r\n",
    "                parent.pop()\r\n",
    "                if (index_of_node == len(regressor.tree_.feature)-1) & (len(parent) == 0):\r\n",
    "                    break\r\n",
    "                else:\r\n",
    "                    parent_idx = parent[-1][0:3]\r\n",
    "    #                 parent_remove = parent[-1][3:]\r\n",
    "\r\n",
    "                    parent[-1][4] = True\r\n",
    "\r\n",
    "        else:\r\n",
    "            continue\r\n"
   ],
   "outputs": [],
   "metadata": {}
  },
  {
   "cell_type": "code",
   "execution_count": 54,
   "source": [
    "right_children"
   ],
   "outputs": [
    {
     "output_type": "execute_result",
     "data": {
      "text/plain": [
       "[]"
      ]
     },
     "metadata": {},
     "execution_count": 54
    }
   ],
   "metadata": {}
  },
  {
   "cell_type": "code",
   "execution_count": 55,
   "source": [
    "left_children"
   ],
   "outputs": [
    {
     "output_type": "execute_result",
     "data": {
      "text/plain": [
       "[[[0, 1000], [0, 1000]]]"
      ]
     },
     "metadata": {},
     "execution_count": 55
    }
   ],
   "metadata": {}
  },
  {
   "cell_type": "code",
   "execution_count": 56,
   "source": [
    "print(tree.export_text(regressor))"
   ],
   "outputs": [
    {
     "output_type": "stream",
     "name": "stdout",
     "text": [
      "|--- feature_0 <= 425.00\n",
      "|   |--- feature_0 <= 359.00\n",
      "|   |   |--- feature_1 <= 334.50\n",
      "|   |   |   |--- feature_1 <= 125.00\n",
      "|   |   |   |   |--- value: [-4.74]\n",
      "|   |   |   |--- feature_1 >  125.00\n",
      "|   |   |   |   |--- feature_0 <= 305.00\n",
      "|   |   |   |   |   |--- feature_1 <= 224.00\n",
      "|   |   |   |   |   |   |--- feature_0 <= 260.00\n",
      "|   |   |   |   |   |   |   |--- value: [5.11]\n",
      "|   |   |   |   |   |   |--- feature_0 >  260.00\n",
      "|   |   |   |   |   |   |   |--- value: [2.74]\n",
      "|   |   |   |   |   |--- feature_1 >  224.00\n",
      "|   |   |   |   |   |   |--- value: [1.40]\n",
      "|   |   |   |   |--- feature_0 >  305.00\n",
      "|   |   |   |   |   |--- feature_1 <= 175.50\n",
      "|   |   |   |   |   |   |--- value: [-3.76]\n",
      "|   |   |   |   |   |--- feature_1 >  175.50\n",
      "|   |   |   |   |   |   |--- feature_1 <= 282.50\n",
      "|   |   |   |   |   |   |   |--- value: [2.67]\n",
      "|   |   |   |   |   |   |--- feature_1 >  282.50\n",
      "|   |   |   |   |   |   |   |--- value: [0.04]\n",
      "|   |   |--- feature_1 >  334.50\n",
      "|   |   |   |--- feature_0 <= 257.00\n",
      "|   |   |   |   |--- feature_1 <= 479.00\n",
      "|   |   |   |   |   |--- feature_1 <= 416.00\n",
      "|   |   |   |   |   |   |--- value: [-1.32]\n",
      "|   |   |   |   |   |--- feature_1 >  416.00\n",
      "|   |   |   |   |   |   |--- value: [-0.58]\n",
      "|   |   |   |   |--- feature_1 >  479.00\n",
      "|   |   |   |   |   |--- value: [-3.76]\n",
      "|   |   |   |--- feature_0 >  257.00\n",
      "|   |   |   |   |--- feature_0 <= 335.00\n",
      "|   |   |   |   |   |--- feature_0 <= 281.00\n",
      "|   |   |   |   |   |   |--- value: [-4.24]\n",
      "|   |   |   |   |   |--- feature_0 >  281.00\n",
      "|   |   |   |   |   |   |--- feature_0 <= 327.00\n",
      "|   |   |   |   |   |   |   |--- value: [-6.91]\n",
      "|   |   |   |   |   |   |--- feature_0 >  327.00\n",
      "|   |   |   |   |   |   |   |--- value: [-5.09]\n",
      "|   |   |   |   |--- feature_0 >  335.00\n",
      "|   |   |   |   |   |--- value: [-1.04]\n",
      "|   |--- feature_0 >  359.00\n",
      "|   |   |--- feature_1 <= 472.50\n",
      "|   |   |   |--- feature_0 <= 397.00\n",
      "|   |   |   |   |--- feature_0 <= 367.00\n",
      "|   |   |   |   |   |--- value: [-4.73]\n",
      "|   |   |   |   |--- feature_0 >  367.00\n",
      "|   |   |   |   |   |--- feature_1 <= 395.00\n",
      "|   |   |   |   |   |   |--- value: [-1.46]\n",
      "|   |   |   |   |   |--- feature_1 >  395.00\n",
      "|   |   |   |   |   |   |--- value: [-3.01]\n",
      "|   |   |   |--- feature_0 >  397.00\n",
      "|   |   |   |   |--- feature_1 <= 313.00\n",
      "|   |   |   |   |   |--- feature_0 <= 410.00\n",
      "|   |   |   |   |   |   |--- value: [-2.81]\n",
      "|   |   |   |   |   |--- feature_0 >  410.00\n",
      "|   |   |   |   |   |   |--- value: [-5.43]\n",
      "|   |   |   |   |--- feature_1 >  313.00\n",
      "|   |   |   |   |   |--- value: [-7.16]\n",
      "|   |   |--- feature_1 >  472.50\n",
      "|   |   |   |--- value: [-7.92]\n",
      "|--- feature_0 >  425.00\n",
      "|   |--- feature_0 <= 489.00\n",
      "|   |   |--- feature_1 <= 310.50\n",
      "|   |   |   |--- feature_0 <= 453.00\n",
      "|   |   |   |   |--- value: [-6.18]\n",
      "|   |   |   |--- feature_0 >  453.00\n",
      "|   |   |   |   |--- feature_1 <= 207.50\n",
      "|   |   |   |   |   |--- value: [-7.10]\n",
      "|   |   |   |   |--- feature_1 >  207.50\n",
      "|   |   |   |   |   |--- value: [-7.67]\n",
      "|   |   |--- feature_1 >  310.50\n",
      "|   |   |   |--- feature_0 <= 435.00\n",
      "|   |   |   |   |--- value: [-7.83]\n",
      "|   |   |   |--- feature_0 >  435.00\n",
      "|   |   |   |   |--- feature_1 <= 483.00\n",
      "|   |   |   |   |   |--- feature_1 <= 442.50\n",
      "|   |   |   |   |   |   |--- feature_0 <= 452.00\n",
      "|   |   |   |   |   |   |   |--- value: [-12.01]\n",
      "|   |   |   |   |   |   |--- feature_0 >  452.00\n",
      "|   |   |   |   |   |   |   |--- feature_1 <= 379.00\n",
      "|   |   |   |   |   |   |   |   |--- value: [-9.50]\n",
      "|   |   |   |   |   |   |   |--- feature_1 >  379.00\n",
      "|   |   |   |   |   |   |   |   |--- value: [-9.53]\n",
      "|   |   |   |   |   |--- feature_1 >  442.50\n",
      "|   |   |   |   |   |   |--- value: [-7.75]\n",
      "|   |   |   |   |--- feature_1 >  483.00\n",
      "|   |   |   |   |   |--- feature_1 <= 519.00\n",
      "|   |   |   |   |   |   |--- value: [-12.09]\n",
      "|   |   |   |   |   |--- feature_1 >  519.00\n",
      "|   |   |   |   |   |   |--- value: [-11.40]\n",
      "|   |--- feature_0 >  489.00\n",
      "|   |   |--- feature_1 <= 302.00\n",
      "|   |   |   |--- feature_1 <= 138.00\n",
      "|   |   |   |   |--- value: [-11.40]\n",
      "|   |   |   |--- feature_1 >  138.00\n",
      "|   |   |   |   |--- feature_1 <= 263.50\n",
      "|   |   |   |   |   |--- value: [-7.64]\n",
      "|   |   |   |   |--- feature_1 >  263.50\n",
      "|   |   |   |   |   |--- value: [-10.24]\n",
      "|   |   |--- feature_1 >  302.00\n",
      "|   |   |   |--- feature_0 <= 545.00\n",
      "|   |   |   |   |--- feature_1 <= 439.50\n",
      "|   |   |   |   |   |--- feature_0 <= 499.00\n",
      "|   |   |   |   |   |   |--- value: [-13.16]\n",
      "|   |   |   |   |   |--- feature_0 >  499.00\n",
      "|   |   |   |   |   |   |--- feature_1 <= 339.00\n",
      "|   |   |   |   |   |   |   |--- feature_1 <= 323.50\n",
      "|   |   |   |   |   |   |   |   |--- value: [-12.40]\n",
      "|   |   |   |   |   |   |   |--- feature_1 >  323.50\n",
      "|   |   |   |   |   |   |   |   |--- value: [-11.81]\n",
      "|   |   |   |   |   |   |--- feature_1 >  339.00\n",
      "|   |   |   |   |   |   |   |--- value: [-10.61]\n",
      "|   |   |   |   |--- feature_1 >  439.50\n",
      "|   |   |   |   |   |--- feature_1 <= 450.50\n",
      "|   |   |   |   |   |   |--- value: [-28.25]\n",
      "|   |   |   |   |   |--- feature_1 >  450.50\n",
      "|   |   |   |   |   |   |--- feature_1 <= 522.00\n",
      "|   |   |   |   |   |   |   |--- value: [-16.42]\n",
      "|   |   |   |   |   |   |--- feature_1 >  522.00\n",
      "|   |   |   |   |   |   |   |--- value: [-12.58]\n",
      "|   |   |   |--- feature_0 >  545.00\n",
      "|   |   |   |   |--- feature_1 <= 433.50\n",
      "|   |   |   |   |   |--- feature_0 <= 569.00\n",
      "|   |   |   |   |   |   |--- feature_0 <= 559.00\n",
      "|   |   |   |   |   |   |   |--- value: [-13.03]\n",
      "|   |   |   |   |   |   |--- feature_0 >  559.00\n",
      "|   |   |   |   |   |   |   |--- value: [-11.09]\n",
      "|   |   |   |   |   |--- feature_0 >  569.00\n",
      "|   |   |   |   |   |   |--- value: [-14.73]\n",
      "|   |   |   |   |--- feature_1 >  433.50\n",
      "|   |   |   |   |   |--- feature_1 <= 471.50\n",
      "|   |   |   |   |   |   |--- feature_1 <= 453.50\n",
      "|   |   |   |   |   |   |   |--- value: [-10.77]\n",
      "|   |   |   |   |   |   |--- feature_1 >  453.50\n",
      "|   |   |   |   |   |   |   |--- value: [-7.68]\n",
      "|   |   |   |   |   |--- feature_1 >  471.50\n",
      "|   |   |   |   |   |   |--- feature_1 <= 559.00\n",
      "|   |   |   |   |   |   |   |--- value: [-12.86]\n",
      "|   |   |   |   |   |   |--- feature_1 >  559.00\n",
      "|   |   |   |   |   |   |   |--- value: [-11.83]\n",
      "\n"
     ]
    }
   ],
   "metadata": {}
  },
  {
   "cell_type": "code",
   "execution_count": 57,
   "source": [
    "region"
   ],
   "outputs": [
    {
     "output_type": "execute_result",
     "data": {
      "text/plain": [
       "[[0.0, 359.0, 0.0, 125.0, -4.738047953782854],\n",
       " [0.0, 260.0, 125.0, 224.0, 5.110972969698491],\n",
       " [260.0, 305.0, 125.0, 224.0, 2.740231589505737],\n",
       " [0.0, 305.0, 224.0, 334.5, 1.4037981694167485],\n",
       " [305.0, 359.0, 125.0, 175.5, -3.7648234441744757],\n",
       " [305.0, 359.0, 175.5, 282.5, 2.6728977324270224],\n",
       " [305.0, 359.0, 282.5, 334.5, 0.041581970247154154],\n",
       " [0.0, 257.0, 334.5, 416.0, -1.3249233104912626],\n",
       " [0.0, 257.0, 416.0, 479.0, -0.5786981966181725],\n",
       " [0.0, 257.0, 479.0, 1000.0, -3.7610006941268552],\n",
       " [257.0, 281.0, 334.5, 1000, -4.2401094099659],\n",
       " [281.0, 327.0, 334.5, 1000, -6.913856868386265],\n",
       " [327.0, 335.0, 334.5, 1000, -5.090116062566234],\n",
       " [335.0, 359.0, 334.5, 1000, -1.0418604937999556],\n",
       " [359.0, 367.0, 0, 472.5, -4.7270644376361455],\n",
       " [367.0, 397.0, 0.0, 395.0, -1.4550026577973476],\n",
       " [367.0, 397.0, 395.0, 472.5, -3.008780865753251],\n",
       " [397.0, 410.0, 0.0, 313.0, -2.807341927796451],\n",
       " [410.0, 425.0, 0.0, 313.0, -5.431124607961797],\n",
       " [397.0, 425.0, 313.0, 472.5, -7.163188648866617],\n",
       " [359.0, 425.0, 472.5, 1000, -7.918501390451214],\n",
       " [425.0, 453.0, 0, 310.5, -6.181526925502919],\n",
       " [453.0, 489.0, 0.0, 207.5, -7.095651512751965],\n",
       " [453.0, 489.0, 207.5, 310.5, -7.6661421507191765],\n",
       " [425.0, 435.0, 310.5, 1000, -7.834668944431492],\n",
       " [435.0, 452.0, 310.5, 442.5, -12.008810987126163],\n",
       " [452.0, 489.0, 310.5, 379.0, -9.498797705881117],\n",
       " [452.0, 489.0, 379.0, 442.5, -9.527515946518829],\n",
       " [435.0, 489.0, 442.5, 483.0, -7.754269674615307],\n",
       " [435.0, 489.0, 483.0, 519.0, -12.088662382017691],\n",
       " [435.0, 489.0, 519.0, 1000.0, -11.403472612388684],\n",
       " [489.0, 1000.0, 0.0, 138.0, -11.398261899400723],\n",
       " [489.0, 1000.0, 138.0, 263.5, -7.640271087109456],\n",
       " [489.0, 1000.0, 263.5, 302.0, -10.23682749323883],\n",
       " [489.0, 499.0, 302.0, 439.5, -13.158096551866237],\n",
       " [499.0, 545.0, 302.0, 323.5, -12.397351886303374],\n",
       " [499.0, 545.0, 323.5, 339.0, -11.814527008034453],\n",
       " [499.0, 545.0, 339.0, 439.5, -10.608657689340967],\n",
       " [489.0, 545.0, 439.5, 450.5, -28.24656163560807],\n",
       " [489.0, 545.0, 450.5, 522.0, -16.419916875515767],\n",
       " [489.0, 545.0, 522.0, 1000.0, -12.580947841378178],\n",
       " [545.0, 559.0, 302.0, 433.5, -13.026513417440702],\n",
       " [559.0, 569.0, 302.0, 433.5, -11.094186582721939],\n",
       " [569.0, 1000.0, 302.0, 433.5, -14.73242374230091],\n",
       " [545.0, 1000.0, 433.5, 453.5, -10.774652002783519],\n",
       " [545.0, 1000.0, 453.5, 471.5, -7.680768337964519],\n",
       " [545.0, 1000.0, 471.5, 559.0, -12.864448988388185],\n",
       " [545.0, 1000.0, 559.0, 1000.0, -11.833007783770395]]"
      ]
     },
     "metadata": {},
     "execution_count": 57
    }
   ],
   "metadata": {}
  },
  {
   "cell_type": "code",
   "execution_count": 59,
   "source": [
    "header = [['CD1', 'CD2', 'SP1', 'SP2', 'wext']]\r\n",
    "import csv\r\n",
    "\r\n",
    "with open('rules.csv', 'w', newline='') as file:\r\n",
    "    writer = csv.writer(file)\r\n",
    "    writer.writerows(header)\r\n",
    "    writer.writerows(region)"
   ],
   "outputs": [],
   "metadata": {}
  },
  {
   "cell_type": "code",
   "execution_count": 61,
   "source": [
    "with open('rules.csv', 'r', newline='') as file:\r\n",
    "    rows = csv.reader(file)\r\n",
    "#     rows = csv.reader(csvfile)\r\n",
    "\r\n",
    "  # 以迴圈輸出每一列\r\n",
    "    "
   ],
   "outputs": [
    {
     "output_type": "stream",
     "name": "stdout",
     "text": [
      "<_csv.reader object at 0x000002103210C828>\n"
     ]
    }
   ],
   "metadata": {}
  },
  {
   "cell_type": "code",
   "execution_count": null,
   "source": [],
   "outputs": [],
   "metadata": {}
  }
 ],
 "metadata": {
  "kernelspec": {
   "display_name": "Python 3",
   "language": "python",
   "name": "python3"
  },
  "language_info": {
   "codemirror_mode": {
    "name": "ipython",
    "version": 3
   },
   "file_extension": ".py",
   "mimetype": "text/x-python",
   "name": "python",
   "nbconvert_exporter": "python",
   "pygments_lexer": "ipython3",
   "version": "3.7.6"
  }
 },
 "nbformat": 4,
 "nbformat_minor": 5
}